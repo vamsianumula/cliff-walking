{
 "cells": [
  {
   "cell_type": "code",
   "execution_count": null,
   "id": "86632748",
   "metadata": {},
   "outputs": [],
   "source": [
    "import gym\n",
    "import numpy as np\n",
    "import matplotlib.pyplot as plt\n",
    "from collections import defaultdict\n",
    "%matplotlib inline"
   ]
  },
  {
   "cell_type": "code",
   "execution_count": null,
   "id": "3f2f7491",
   "metadata": {},
   "outputs": [],
   "source": [
    "env=gym.make('CliffWalking-v0')\n",
    "\n",
    "print(env.observation_space)\n",
    "print(env.action_space)\n",
    "\n",
    "nactions = env.action_space.n"
   ]
  },
  {
   "cell_type": "code",
   "execution_count": null,
   "id": "649b6d8c",
   "metadata": {},
   "outputs": [],
   "source": [
    "#Theoretical optimal state vale function\n",
    "V_opt = np.zeros((4,12))\n",
    "V_opt[0:13][0] = -np.arange(3, 15)[::-1]\n",
    "V_opt[0:13][1] = -np.arange(3, 15)[::-1] + 1\n",
    "V_opt[0:13][2] = -np.arange(3, 15)[::-1] + 2\n",
    "V_opt[3][0] = -13"
   ]
  },
  {
   "cell_type": "code",
   "execution_count": null,
   "id": "503d5ec6",
   "metadata": {},
   "outputs": [],
   "source": [
    "def eps_greedy(Q,state,eps):\n",
    "    \"\"\"Implements epsilon greedy stratetgy for selecting actions based on exploration exploitation tradeoff\"\"\"\n",
    "    prob = np.ones((nactions,)) * eps/nactions\n",
    "    prob[np.argmax(Q[state])] = 1 - eps + eps/nactions\n",
    "    action = np.random.choice(np.arange(nactions), p=prob)\n",
    "    return action"
   ]
  },
  {
   "cell_type": "code",
   "execution_count": null,
   "id": "2169bd7d",
   "metadata": {},
   "outputs": [],
   "source": [
    "Q_sarsa = defaultdict(lambda: np.zeros((nactions,)))\n",
    "num_eps = 3000\n",
    "alpha = 0.2\n",
    "gamma = 1\n",
    "\n",
    "eps_init=1\n",
    "eps_decay = 0.99\n",
    "eps_fin = 0.1\n",
    "\n",
    "his=[]\n",
    "for i in range(num_eps):\n",
    "    state = env.reset()\n",
    "    done = False\n",
    "    eps = max(eps_fin,eps_init*eps_decay)\n",
    "    t = 0\n",
    "    action = eps_greedy(Q_sarsa,state,eps)\n",
    "    r=0\n",
    "    while not done:\n",
    "        next_state, reward, done, _ = env.step(action)\n",
    "        next_action = eps_greedy(Q_sarsa,next_state,eps)\n",
    "        his.append(r)\n",
    "        tmp = Q_sarsa[state][action]\n",
    "        Q_sarsa[state][action] = tmp + alpha*(reward + gamma* Q_sarsa[next_state][next_action]-tmp)\n",
    "        state,action = next_state, next_action\n",
    "        t+=1\n",
    "        if done:\n",
    "            his.append(r)\n",
    "            \n",
    "    if (i+1)%100==0:\n",
    "        print(f\"Episode: {i+1}, Reward:{r}, Avg: {np.mean(his[-100:]):.3f}\")"
   ]
  },
  {
   "cell_type": "code",
   "execution_count": null,
   "id": "8d09ee11",
   "metadata": {},
   "outputs": [],
   "source": [
    "policy_sarsa = np.array([np.argmax(Q_sarsa[key]) if key in Q_sarsa else -1 for key in np.arange(48)]).reshape(4,12)"
   ]
  },
  {
   "cell_type": "code",
   "execution_count": null,
   "id": "af2d08c4",
   "metadata": {},
   "outputs": [],
   "source": [
    "Q_QL = defaultdict(lambda: np.zeros((nactions,)))\n",
    "num_eps = 3000\n",
    "alpha = 0.2\n",
    "gamma = 1\n",
    "\n",
    "eps_init=1\n",
    "eps_decay = 0.99\n",
    "eps_fin = 0.1\n",
    "\n",
    "his=[]\n",
    "for i in range(num_eps):\n",
    "    state = env.reset()\n",
    "    done = False\n",
    "    eps = max(eps_fin,eps_init*eps_decay)\n",
    "    t = 0\n",
    "    r=0\n",
    "    while not done:\n",
    "        action = eps_greedy(Q_QL,state,eps)\n",
    "        next_state, reward, done, _ = env.step(action)\n",
    "        r+=reward\n",
    "        tmp = Q_QL[state][action]\n",
    "        Q_QL[state][action] = tmp + alpha*(reward + gamma* np.max(Q_QL[next_state])-tmp)\n",
    "        state,action = next_state, next_action\n",
    "        t+=1\n",
    "        if done:\n",
    "            his.append(r)\n",
    "    if (i+1)%100==0:\n",
    "        print(f\"Episode: {i+1}, Reward:{r}, Avg: {np.mean(his[-100:]):.3f}\")"
   ]
  },
  {
   "cell_type": "code",
   "execution_count": null,
   "id": "09e4adb9",
   "metadata": {},
   "outputs": [],
   "source": [
    "policy_QL = np.array([np.argmax(Q_QL[key]) if key in Q_QL else -1 for key in np.arange(48)]).reshape(4,12)"
   ]
  },
  {
   "cell_type": "code",
   "execution_count": null,
   "id": "79b39e63",
   "metadata": {},
   "outputs": [],
   "source": [
    "Q_exp_sarsa = defaultdict(lambda: np.zeros((nactions,)))\n",
    "num_eps = 3000\n",
    "alpha = 0.2\n",
    "gamma = 1\n",
    "\n",
    "eps_init=1\n",
    "eps_decay = 0.99\n",
    "eps_fin = 0.1\n",
    "\n",
    "his=[]\n",
    "for i in range(num_eps):\n",
    "    state = env.reset()\n",
    "    done = False\n",
    "    eps = max(eps_fin,eps_init*eps_decay)\n",
    "    t = 0\n",
    "    r=0\n",
    "    while not done:\n",
    "        action = eps_greedy(Q_exp_sarsa,state,eps)\n",
    "        next_state, reward, done, _ = env.step(action)\n",
    "        r+=reward\n",
    "        prob = np.ones((nactions,)) * eps/nactions\n",
    "        prob[np.argmax(Q_exp_sarsa[next_state])] = 1 - eps + eps/nactions\n",
    "        \n",
    "        tmp = Q_exp_sarsa[state][action]\n",
    "        Q_exp_sarsa[state][action] = tmp + alpha*(reward + gamma* np.dot(prob,Q_exp_sarsa[next_state])-tmp)\n",
    "        state = next_state\n",
    "        t+=1\n",
    "        if done:\n",
    "            his.append(r)\n",
    "        \n",
    "    if (i+1)%100==0:\n",
    "        print(f\"Episode: {i+1}, Reward:{r}, Avg: {np.mean(his[-100:]):.3f}\")"
   ]
  },
  {
   "cell_type": "code",
   "execution_count": null,
   "id": "2d8f33d3",
   "metadata": {},
   "outputs": [],
   "source": [
    "policy_exp_sarsa = np.array([np.argmax(Q_exp_sarsa[key]) if key in Q_exp_sarsa else -1 for key in np.arange(48)]).reshape(4,12)"
   ]
  },
  {
   "cell_type": "code",
   "execution_count": null,
   "id": "40848e18",
   "metadata": {},
   "outputs": [],
   "source": []
  }
 ],
 "metadata": {
  "kernelspec": {
   "display_name": "Python 3",
   "language": "python",
   "name": "python3"
  },
  "language_info": {
   "codemirror_mode": {
    "name": "ipython",
    "version": 3
   },
   "file_extension": ".py",
   "mimetype": "text/x-python",
   "name": "python",
   "nbconvert_exporter": "python",
   "pygments_lexer": "ipython3",
   "version": "3.8.10"
  }
 },
 "nbformat": 4,
 "nbformat_minor": 5
}
